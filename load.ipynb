{
 "cells": [
  {
   "cell_type": "code",
   "execution_count": null,
   "metadata": {},
   "outputs": [],
   "source": [
    "# from dotenv import load_dotenv\n",
    "# load_dotenv()\n",
    "# import os\n",
    "# from openai import OpenAI\n",
    "# import pinecone"
   ]
  },
  {
   "cell_type": "code",
   "execution_count": null,
   "metadata": {},
   "outputs": [],
   "source": [
    "# pc = Pinecone(api_key=os.getenv(\"PINECONE_API_KEY\"))\n",
    "# pc.create_index(\n",
    "#     name=\"rag\" , dimension=1536 , metric=\"cosine\" , spec=ServerlessSpec(cloud=\"aws\" , region=\"us-east-1\")\n",
    "# )"
   ]
  },
  {
   "cell_type": "code",
   "execution_count": null,
   "metadata": {},
   "outputs": [],
   "source": [
    "# import json \n",
    "# data = json.load(open(\"reviews.json\"))\n",
    "# data['reviews']"
   ]
  },
  {
   "cell_type": "code",
   "execution_count": null,
   "metadata": {},
   "outputs": [],
   "source": [
    "# processed_data = []\n",
    "# client = OpenAI()\n",
    "# for review in data['reviews']:\n",
    "#     response = client.embeddings.create(\n",
    "#         input=review['review'],\n",
    "#         model=\"text-embedding-3-small\"\n",
    "#     )\n",
    "#     embedding = response.data[0].embedding\n",
    "#     processed_data.append({\n",
    "#         \"values\": embedding,\n",
    "#         \"id\" : review[\"professor\"],\n",
    "#         \"metadata\": {\n",
    "#             \"review\" :review[\"review\"],\n",
    "#             \"subject\":review[\"subject\"],\n",
    "#             \"stars\" :review[\"stars\"]\n",
    "#         }\n",
    "#     })"
   ]
  },
  {
   "cell_type": "code",
   "execution_count": null,
   "metadata": {},
   "outputs": [],
   "source": [
    "# index=pc.Index('rag')\n",
    "# index.upsert(\n",
    "#     vectors=processed_data,\n",
    "#     namespace=\"ns1\"\n",
    "# )"
   ]
  },
  {
   "cell_type": "code",
   "execution_count": 2,
   "metadata": {},
   "outputs": [
    {
     "ename": "NameError",
     "evalue": "name 'index' is not defined",
     "output_type": "error",
     "traceback": [
      "\u001b[1;31m---------------------------------------------------------------------------\u001b[0m",
      "\u001b[1;31mNameError\u001b[0m                                 Traceback (most recent call last)",
      "Cell \u001b[1;32mIn[2], line 1\u001b[0m\n\u001b[1;32m----> 1\u001b[0m \u001b[43mindex\u001b[49m\u001b[38;5;241m.\u001b[39mdescribe_index_stats()\n",
      "\u001b[1;31mNameError\u001b[0m: name 'index' is not defined"
     ]
    }
   ],
   "source": [
    "# index.describe_index_stats()"
   ]
  }
 ],
 "metadata": {
  "kernelspec": {
   "display_name": "Python 3",
   "language": "python",
   "name": "python3"
  },
  "language_info": {
   "codemirror_mode": {
    "name": "ipython",
    "version": 3
   },
   "file_extension": ".py",
   "mimetype": "text/x-python",
   "name": "python",
   "nbconvert_exporter": "python",
   "pygments_lexer": "ipython3",
   "version": "3.10.14"
  }
 },
 "nbformat": 4,
 "nbformat_minor": 2
}
