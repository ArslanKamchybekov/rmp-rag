{
 "cells": [
  {
   "cell_type": "code",
<<<<<<< HEAD
   "execution_count": null,
=======
   "execution_count": 2,
>>>>>>> 05252b1 (changes)
   "metadata": {},
   "outputs": [],
   "source": [
    "from dotenv import load_dotenv\n",
<<<<<<< HEAD
    "load_env()\n",
    "import os\n",
    "import openai\n",
    "import pinecone"
=======
    "load_dotenv()\n",
    "from pinecone import Pinecone, ServerlessSpec\n",
    "from openai import OpenAI\n",
    "import os\n",
    "import json"
>>>>>>> 05252b1 (changes)
   ]
  }
 ],
 "metadata": {
  "kernelspec": {
   "display_name": "Python 3",
   "language": "python",
   "name": "python3"
  },
  "language_info": {
<<<<<<< HEAD
   "name": "python",
   "version": "3.11.9"
=======
   "codemirror_mode": {
    "name": "ipython",
    "version": 3
   },
   "file_extension": ".py",
   "mimetype": "text/x-python",
   "name": "python",
   "nbconvert_exporter": "python",
   "pygments_lexer": "ipython3",
   "version": "3.10.14"
>>>>>>> 05252b1 (changes)
  }
 },
 "nbformat": 4,
 "nbformat_minor": 2
}
